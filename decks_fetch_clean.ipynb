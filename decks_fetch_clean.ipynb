{
 "cells": [
  {
   "cell_type": "code",
   "execution_count": 1,
   "id": "af13777d",
   "metadata": {
    "ExecuteTime": {
     "end_time": "2024-04-16T14:45:40.429966Z",
     "start_time": "2024-04-16T14:45:35.611438Z"
    }
   },
   "outputs": [],
   "source": [
    "import requests"
   ]
  },
  {
   "cell_type": "markdown",
   "id": "e37155a6",
   "metadata": {},
   "source": [
    "Plan:\n",
    "\n",
    "- Fetch 10,000 players\n",
    "- Fetch their battle logs (25 battles each)\n",
    "- Parse decks from the battle logs, put them in a set (so we end up with only unique decks)\n",
    "- *NOTE*: This script does not take into account decks with more than 8 cards (such as those used for Mega Draft/Whatever), and does not take into account tower troops. It would be easy to fix the former issue, and a little trickier to implement the latter, but I'll leave that to another day! :p \n",
    "(ok, the former issue i fixed later for my project by iterating over the decks and removing those with 8+ cards in a separate file, but that's so hacky that i am actually quite perturbed for writing this)\n"
   ]
  },
  {
   "cell_type": "code",
   "outputs": [],
   "source": [
    "from dotenv import load_dotenv\n",
    "import os\n",
    "\n",
    "load_dotenv()\n",
    "\n",
    "bearer = 'Bearer ' + os.getenv(\"API_KEY\")\n",
    "headers = {\"Accept\":\"application/json\", \"authorization\":bearer}"
   ],
   "metadata": {
    "collapsed": false,
    "ExecuteTime": {
     "end_time": "2024-04-16T14:45:40.696965Z",
     "start_time": "2024-04-16T14:45:40.434967Z"
    }
   },
   "id": "2f53a567fecc5b44",
   "execution_count": 2
  },
  {
   "cell_type": "code",
   "execution_count": 3,
   "id": "631457bd",
   "metadata": {
    "ExecuteTime": {
     "end_time": "2024-04-16T14:45:44.021504Z",
     "start_time": "2024-04-16T14:45:40.704970Z"
    }
   },
   "outputs": [],
   "source": [
    "# Get top players for March 2024\n",
    "\n",
    "r_player_tags = requests.get(\"https://proxy.royaleapi.dev/v1/locations/global/seasons/96/rankings/players?limit=10000\", headers=headers)"
   ]
  },
  {
   "cell_type": "code",
   "execution_count": 4,
   "id": "978bdf74",
   "metadata": {
    "ExecuteTime": {
     "end_time": "2024-04-16T14:45:44.105878Z",
     "start_time": "2024-04-16T14:45:44.028491Z"
    }
   },
   "outputs": [],
   "source": [
    "players = r_player_tags.json()[\"items\"]\n"
   ]
  },
  {
   "cell_type": "code",
   "execution_count": 5,
   "id": "ada4ec34",
   "metadata": {
    "ExecuteTime": {
     "end_time": "2024-04-01T14:46:35.339300Z",
     "start_time": "2024-04-01T14:46:35.332764Z"
    }
   },
   "outputs": [],
   "source": [
    "player_tags: set[str] = set()"
   ]
  },
  {
   "cell_type": "code",
   "execution_count": 6,
   "id": "15de241d",
   "metadata": {
    "ExecuteTime": {
     "end_time": "2024-04-01T14:46:36.318558Z",
     "start_time": "2024-04-01T14:46:36.310732Z"
    }
   },
   "outputs": [],
   "source": [
    "for player in players:\n",
    "    player_tags.add(player[\"tag\"])"
   ]
  },
  {
   "cell_type": "code",
   "execution_count": 16,
   "id": "33914fe8",
   "metadata": {
    "ExecuteTime": {
     "end_time": "2024-04-01T14:47:07.357697Z",
     "start_time": "2024-04-01T14:47:07.351158Z"
    }
   },
   "outputs": [],
   "source": [
    "decks: list[list[str]] = []"
   ]
  },
  {
   "cell_type": "code",
   "execution_count": 17,
   "id": "1b700ddc",
   "metadata": {
    "ExecuteTime": {
     "end_time": "2024-04-01T14:47:08.476559Z",
     "start_time": "2024-04-01T14:47:08.471621Z"
    }
   },
   "outputs": [],
   "source": [
    "players_info = []"
   ]
  },
  {
   "cell_type": "code",
   "execution_count": null,
   "id": "1c71aa97",
   "metadata": {},
   "outputs": [],
   "source": [
    "for tag in player_tags:\n",
    "    players_info.append(requests.get(\"https://proxy.royaleapi.dev/v1/players/\" + tag, headers=headers))"
   ]
  },
  {
   "cell_type": "code",
   "outputs": [],
   "source": [
    "player_tags_list = [x for x in player_tags]"
   ],
   "metadata": {
    "collapsed": false,
    "ExecuteTime": {
     "end_time": "2024-04-01T15:30:20.396517Z",
     "start_time": "2024-04-01T15:30:20.386831Z"
    }
   },
   "id": "1c212df0dd56841a",
   "execution_count": 84
  },
  {
   "cell_type": "code",
   "outputs": []
    }
   ],
   "source": [
    "log_decks = []\n",
    "\n",
    "for i, tag in enumerate(player_tags_list):\n",
    "    print(f'[{i+1}/{len(player_tags_list)}] Fetching data for {tag}...')\n",
    "    url_tag = tag.replace('#', '%23')\n",
    "    r_bl = requests.get(f'https://proxy.royaleapi.dev/v1/players/{url_tag}/battlelog', headers=headers)\n",
    "    bl = r_bl.json()\n",
    "    print('Done! Fetching decks...')\n",
    "    \n",
    "    for battle in bl:\n",
    "        log_deck = []\n",
    "        for deck in battle['team'][0]['cards']:\n",
    "            log_deck.append(deck['name'])\n",
    "        log_deck.sort()\n",
    "        log_decks.append(log_deck)\n",
    "        log_deck = []\n",
    "        for deck in battle['opponent'][0]['cards']:\n",
    "            log_deck.append(deck['name'])\n",
    "        log_deck.sort()\n",
    "        log_decks.append(log_deck)\n",
    "    \n",
    "    print('Done! \\n\\n')\n",
    "\n",
    "print('ALL OK!')"
   ],
   "metadata": {
    "collapsed": false,
    "ExecuteTime": {
     "end_time": "2024-04-01T18:00:13.648708Z",
     "start_time": "2024-04-01T15:58:40.290150Z"
    }
   },
   "id": "d1a6ee1ced9054e6",
   "execution_count": 112
  },
  {
   "cell_type": "code",
   "outputs": [],
   "source": [
    "log_decks_set = set(tuple(x) for x in log_decks)"
   ],
   "metadata": {
    "collapsed": false,
    "ExecuteTime": {
     "end_time": "2024-04-01T18:09:53.758613Z",
     "start_time": "2024-04-01T18:09:49.064616Z"
    }
   },
   "id": "a44e51e03fb9a1a0",
   "execution_count": 113
  },
  {
   "cell_type": "code",
   "outputs": [],
   "source": [
    "import pickle"
   ],
   "metadata": {
    "collapsed": false,
    "ExecuteTime": {
     "end_time": "2024-04-01T18:19:40.101099Z",
     "start_time": "2024-04-01T18:19:39.996521Z"
    }
   },
   "id": "2b6f22c9e2d67cb8",
   "execution_count": 119
  },
  {
   "cell_type": "code",
   "outputs": [],
   "source": [
    "with open('decks.pickle', 'wb') as file:\n",
    "    pickle.dump(log_decks, file)"
   ],
   "metadata": {
    "collapsed": false,
    "ExecuteTime": {
     "end_time": "2024-04-01T18:20:55.778094Z",
     "start_time": "2024-04-01T18:20:52.741305Z"
    }
   },
   "id": "7d5a13bcd87c5859",
   "execution_count": 120
  },
  {
   "cell_type": "code",
   "outputs": [],
   "source": [
    "# Get card icons\n",
    "r_pics = requests.get('https://proxy.royaleapi.dev/v1/cards', headers=headers)\n",
    "pics = r_pics.json()"
   ],
   "metadata": {
    "collapsed": false,
    "ExecuteTime": {
     "end_time": "2024-04-08T20:13:22.716690Z",
     "start_time": "2024-04-08T20:13:19.924560Z"
    }
   },
   "id": "fb276ab33dc9f4fd",
   "execution_count": 3
  },
  {
   "cell_type": "code",
   "outputs": [
    {
     "name": "stdout",
     "output_type": "stream",
     "text": [
      "110\n"
     ]
    }
   ],
   "source": [
    "print(len(pics['items']))"
   ],
   "metadata": {
    "collapsed": false,
    "ExecuteTime": {
     "end_time": "2024-04-08T20:14:18.292373Z",
     "start_time": "2024-04-08T20:14:18.282649Z"
    }
   },
   "id": "6493191d27388a14",
   "execution_count": 6
  },
  {
   "cell_type": "code",
   "outputs": [],
   "source": [
    "for item in pics['items']:\n",
    "    card_name = item['name']\n",
    "    pic_url = item[\"iconUrls\"]['medium']\n",
    "    img_data = requests.get(pic_url).content\n",
    "\n",
    "    with open(card_name+'.png', 'wb') as handler:\n",
    "        handler.write(img_data)"
   ],
   "metadata": {
    "collapsed": false,
    "ExecuteTime": {
     "end_time": "2024-04-08T20:18:12.152978Z",
     "start_time": "2024-04-08T20:17:30.621041Z"
    }
   },
   "id": "917a7ed0697b7c1c",
   "execution_count": 8
  },
  {
   "cell_type": "code",
   "outputs": [],
   "source": [
    "card_list: list[str] = []\n",
    "\n",
    "for item in pics['items']:\n",
    "    card_list.append(item['name'])"
   ],
   "metadata": {
    "collapsed": false,
    "ExecuteTime": {
     "end_time": "2024-04-08T21:20:02.982865Z",
     "start_time": "2024-04-08T21:20:02.798029Z"
    }
   },
   "id": "a9d3d0198a58304e",
   "execution_count": 9
  },
  {
   "cell_type": "code",
   "outputs": [
    {
     "name": "stdout",
     "output_type": "stream",
     "text": [
      "['Knight', 'Archers', 'Goblins', 'Giant', 'P.E.K.K.A', 'Minions', 'Balloon', 'Witch', 'Barbarians', 'Golem', 'Skeletons', 'Valkyrie', 'Skeleton Army', 'Bomber', 'Musketeer', 'Baby Dragon', 'Prince', 'Wizard', 'Mini P.E.K.K.A', 'Spear Goblins', 'Giant Skeleton', 'Hog Rider', 'Minion Horde', 'Ice Wizard', 'Royal Giant', 'Guards', 'Princess', 'Dark Prince', 'Three Musketeers', 'Lava Hound', 'Ice Spirit', 'Fire Spirit', 'Miner', 'Sparky', 'Bowler', 'Lumberjack', 'Battle Ram', 'Inferno Dragon', 'Ice Golem', 'Mega Minion', 'Dart Goblin', 'Goblin Gang', 'Electro Wizard', 'Elite Barbarians', 'Hunter', 'Executioner', 'Bandit', 'Royal Recruits', 'Night Witch', 'Bats', 'Royal Ghost', 'Ram Rider', 'Zappies', 'Rascals', 'Cannon Cart', 'Mega Knight', 'Skeleton Barrel', 'Flying Machine', 'Wall Breakers', 'Royal Hogs', 'Goblin Giant', 'Fisherman', 'Magic Archer', 'Electro Dragon', 'Firecracker', 'Mighty Miner', 'Elixir Golem', 'Battle Healer', 'Skeleton King', 'Archer Queen', 'Golden Knight', 'Monk', 'Skeleton Dragons', 'Mother Witch', 'Electro Spirit', 'Electro Giant', 'Phoenix', 'Little Prince', 'Cannon', 'Goblin Hut', 'Mortar', 'Inferno Tower', 'Bomb Tower', 'Barbarian Hut', 'Tesla', 'Elixir Collector', 'X-Bow', 'Tombstone', 'Furnace', 'Goblin Cage', 'Goblin Drill', 'Fireball', 'Arrows', 'Rage', 'Rocket', 'Goblin Barrel', 'Freeze', 'Mirror', 'Lightning', 'Zap', 'Poison', 'Graveyard', 'The Log', 'Tornado', 'Clone', 'Earthquake', 'Barbarian Barrel', 'Heal Spirit', 'Giant Snowball', 'Royal Delivery']\n"
     ]
    }
   ],
   "source": [
    "print(card_list)"
   ],
   "metadata": {
    "collapsed": false,
    "ExecuteTime": {
     "end_time": "2024-04-08T21:20:06.235658Z",
     "start_time": "2024-04-08T21:20:06.225730Z"
    }
   },
   "id": "58886704d96ccde5",
   "execution_count": 10
  }
 ],
 "metadata": {
  "kernelspec": {
   "display_name": "Python 3 (ipykernel)",
   "language": "python",
   "name": "python3"
  },
  "language_info": {
   "codemirror_mode": {
    "name": "ipython",
    "version": 3
   },
   "file_extension": ".py",
   "mimetype": "text/x-python",
   "name": "python",
   "nbconvert_exporter": "python",
   "pygments_lexer": "ipython3",
   "version": "3.11.3"
  }
 },
 "nbformat": 4,
 "nbformat_minor": 5
}

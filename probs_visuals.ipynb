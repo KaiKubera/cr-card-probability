{
 "cells": [
  {
   "cell_type": "code",
   "outputs": [],
   "source": [
    "from collections import Counter\n",
    "from itertools import chain"
   ],
   "metadata": {
    "collapsed": false,
    "ExecuteTime": {
     "end_time": "2024-04-16T14:02:05.944302Z",
     "start_time": "2024-04-16T14:02:05.812166Z"
    }
   },
   "id": "35b1c87074acea33",
   "execution_count": 1
  },
  {
   "cell_type": "code",
   "outputs": [],
   "source": [
    "import pickle"
   ],
   "metadata": {
    "collapsed": false,
    "ExecuteTime": {
     "end_time": "2024-04-16T14:02:05.958939Z",
     "start_time": "2024-04-16T14:02:05.950291Z"
    }
   },
   "id": "1b566bb073492e90",
   "execution_count": 2
  },
  {
   "cell_type": "code",
   "outputs": [],
   "source": [
    "with open('decks_clean.pickle', 'rb') as file:\n",
    "    decks = pickle.load(file)"
   ],
   "metadata": {
    "collapsed": false,
    "ExecuteTime": {
     "end_time": "2024-04-16T14:02:07.663012Z",
     "start_time": "2024-04-16T14:02:05.970932Z"
    }
   },
   "id": "57e8492b48a32e48",
   "execution_count": 3
  },
  {
   "cell_type": "code",
   "outputs": [],
   "source": [
    "def get_prob(choice: str) -> list[tuple[str, float]]:\n",
    "\n",
    "    decks_containing_choice = []\n",
    "    for deck in decks:\n",
    "        if str(choice) in deck:\n",
    "            decks_containing_choice.append(deck.copy())\n",
    "\n",
    "    for deck in decks_containing_choice:\n",
    "        deck.remove(choice)\n",
    "    \n",
    "    c = Counter(chain(*decks_containing_choice))\n",
    "    c_dict = dict(c)\n",
    "    c_dict_sorted: list[tuple] = sorted(c_dict.items(), key=lambda x: x[1], reverse=True)\n",
    "\n",
    "    probs: dict = {}\n",
    "    for t in c_dict_sorted:\n",
    "        probability = (t[1]/len(decks_containing_choice)) * 100\n",
    "        probs[t[0]] = probability\n",
    "    \n",
    "    probs_sorted = sorted(probs.items(), key=lambda x: x[1], reverse=True)\n",
    "\n",
    "    return probs_sorted"
   ],
   "metadata": {
    "collapsed": true,
    "ExecuteTime": {
     "end_time": "2024-04-16T14:21:12.105621Z",
     "start_time": "2024-04-16T14:21:11.895058Z"
    }
   },
   "id": "initial_id",
   "execution_count": 15
  },
  {
   "cell_type": "markdown",
   "source": [
    "Possible choices:\n",
    "\n",
    "- Arrows\n",
    "- Hog Rider\n",
    "- The Log\n",
    "- Giant Skeleton\n",
    "- Princess\n",
    "- ..."
   ],
   "metadata": {
    "collapsed": false
   },
   "id": "a07940565687d5c7"
  },
  {
   "cell_type": "code",
   "outputs": [],
   "source": [
    "import pandas as pd"
   ],
   "metadata": {
    "collapsed": false,
    "ExecuteTime": {
     "end_time": "2024-04-16T14:02:36.918213Z",
     "start_time": "2024-04-16T14:02:23.339710Z"
    }
   },
   "id": "32f33ee6ab60b47c",
   "execution_count": 5
  },
  {
   "cell_type": "code",
   "outputs": [],
   "source": [
    "import matplotlib.pyplot as plt"
   ],
   "metadata": {
    "collapsed": false,
    "ExecuteTime": {
     "end_time": "2024-04-16T14:02:44.128758Z",
     "start_time": "2024-04-16T14:02:36.920211Z"
    }
   },
   "id": "5db5d76b2adf56ee",
   "execution_count": 6
  },
  {
   "cell_type": "code",
   "outputs": [],
   "source": [
    "def get_chart(choice: str):\n",
    "    \n",
    "    card_prob = get_prob(choice=choice)\n",
    "    card_decks_df = pd.DataFrame(card_prob, columns=['CardName', 'ProbabilityAgainstChoice'])\n",
    "\n",
    "    labels = card_decks_df['CardName'][::-1]\n",
    "    card_decks_df.index = card_decks_df['CardName'][::-1]\n",
    "    bg_hex = '#0c1623'\n",
    "    bar_hex = '#007ea1'\n",
    "    \n",
    "    plt.style.use('kai_kubera_style.mplstyle')\n",
    "    \n",
    "    fig, ax = plt.subplots(figsize=(10, 100), facecolor=bg_hex, zorder=5)\n",
    "    hbars = ax.barh(labels, card_decks_df['ProbabilityAgainstChoice'][::-1], align='center', color=bar_hex, zorder=2)\n",
    "    \n",
    "    ax.bar_label(hbars, fmt='%.2f%%')\n",
    "    ax.set_xlim(right=card_decks_df['ProbabilityAgainstChoice'].max()+16)\n",
    "    ax.set_facecolor(bg_hex)\n",
    "    \n",
    "    plt.title('Chance for a card to be in a deck with ' + choice)\n",
    "    ax.xaxis.grid()  # grid lines\n",
    "    plt.margins(y=0.01)  # To fix big gaps between first and last bars and the plot bounding box\n",
    "    plt.savefig('barchart_' + choice + '.png', bbox_inches = 'tight')\n",
    "    plt.close()"
   ],
   "metadata": {
    "collapsed": false,
    "ExecuteTime": {
     "end_time": "2024-04-16T14:21:14.195784Z",
     "start_time": "2024-04-16T14:21:14.163218Z"
    }
   },
   "id": "89afbfab1dbc487f",
   "execution_count": 16
  },
  {
   "cell_type": "code",
   "outputs": [],
   "source": [
    "cards = ['Knight', 'Archers', 'Goblins', 'Giant', 'P.E.K.K.A', 'Minions', 'Balloon', 'Witch', 'Barbarians', 'Golem', 'Skeletons', 'Valkyrie', 'Skeleton Army', 'Bomber', 'Musketeer', 'Baby Dragon', 'Prince', 'Wizard', 'Mini P.E.K.K.A', 'Spear Goblins', 'Giant Skeleton', 'Hog Rider', 'Minion Horde', 'Ice Wizard', 'Royal Giant', 'Guards', 'Princess', 'Dark Prince', 'Three Musketeers', 'Lava Hound', 'Ice Spirit', 'Fire Spirit', 'Miner', 'Sparky', 'Bowler', 'Lumberjack', 'Battle Ram', 'Inferno Dragon', 'Ice Golem', 'Mega Minion', 'Dart Goblin', 'Goblin Gang', 'Electro Wizard', 'Elite Barbarians', 'Hunter', 'Executioner', 'Bandit', 'Royal Recruits', 'Night Witch', 'Bats', 'Royal Ghost', 'Ram Rider', 'Zappies', 'Rascals', 'Cannon Cart', 'Mega Knight', 'Skeleton Barrel', 'Flying Machine', 'Wall Breakers', 'Royal Hogs', 'Goblin Giant', 'Fisherman', 'Magic Archer', 'Electro Dragon', 'Firecracker', 'Mighty Miner', 'Elixir Golem', 'Battle Healer', 'Skeleton King', 'Archer Queen', 'Golden Knight', 'Monk', 'Skeleton Dragons', 'Mother Witch', 'Electro Spirit', 'Electro Giant', 'Phoenix', 'Little Prince', 'Cannon', 'Goblin Hut', 'Mortar', 'Inferno Tower', 'Bomb Tower', 'Barbarian Hut', 'Tesla', 'Elixir Collector', 'X-Bow', 'Tombstone', 'Furnace', 'Goblin Cage', 'Goblin Drill', 'Fireball', 'Arrows', 'Rage', 'Rocket', 'Goblin Barrel', 'Freeze', 'Mirror', 'Lightning', 'Zap', 'Poison', 'Graveyard', 'The Log', 'Tornado', 'Clone', 'Earthquake', 'Barbarian Barrel', 'Heal Spirit', 'Giant Snowball', 'Royal Delivery']\n"
   ],
   "metadata": {
    "collapsed": false,
    "ExecuteTime": {
     "end_time": "2024-04-16T14:03:14.848026Z",
     "start_time": "2024-04-16T14:03:14.829963Z"
    }
   },
   "id": "90190d33525f0259",
   "execution_count": 9
  },
  {
   "cell_type": "code",
   "outputs": [],
   "source": [
    "get_chart('Royal Recruits')"
   ],
   "metadata": {
    "collapsed": false,
    "ExecuteTime": {
     "end_time": "2024-04-16T14:21:51.748148Z",
     "start_time": "2024-04-16T14:21:45.148598Z"
    }
   },
   "id": "66219e29f805b845",
   "execution_count": 18
  },
  {
   "cell_type": "code",
   "outputs": [
    {
     "name": "stdout",
     "output_type": "stream",
     "text": [
      "Making chart for Knight\n",
      "Making chart for Archers\n",
      "Making chart for Goblins\n",
      "Making chart for Giant\n",
      "Making chart for P.E.K.K.A\n",
      "Making chart for Minions\n",
      "Making chart for Balloon\n",
      "Making chart for Witch\n",
      "Making chart for Barbarians\n",
      "Making chart for Golem\n",
      "Making chart for Skeletons\n",
      "Making chart for Valkyrie\n",
      "Making chart for Skeleton Army\n",
      "Making chart for Bomber\n",
      "Making chart for Musketeer\n",
      "Making chart for Baby Dragon\n",
      "Making chart for Prince\n",
      "Making chart for Wizard\n",
      "Making chart for Mini P.E.K.K.A\n",
      "Making chart for Spear Goblins\n",
      "Making chart for Giant Skeleton\n",
      "Making chart for Hog Rider\n",
      "Making chart for Minion Horde\n",
      "Making chart for Ice Wizard\n",
      "Making chart for Royal Giant\n",
      "Making chart for Guards\n",
      "Making chart for Princess\n",
      "Making chart for Dark Prince\n",
      "Making chart for Three Musketeers\n",
      "Making chart for Lava Hound\n",
      "Making chart for Ice Spirit\n",
      "Making chart for Fire Spirit\n",
      "Making chart for Miner\n",
      "Making chart for Sparky\n",
      "Making chart for Bowler\n",
      "Making chart for Lumberjack\n",
      "Making chart for Battle Ram\n",
      "Making chart for Inferno Dragon\n",
      "Making chart for Ice Golem\n",
      "Making chart for Mega Minion\n",
      "Making chart for Dart Goblin\n",
      "Making chart for Goblin Gang\n",
      "Making chart for Electro Wizard\n",
      "Making chart for Elite Barbarians\n",
      "Making chart for Hunter\n",
      "Making chart for Executioner\n",
      "Making chart for Bandit\n",
      "Making chart for Royal Recruits\n",
      "Making chart for Night Witch\n",
      "Making chart for Bats\n",
      "Making chart for Royal Ghost\n",
      "Making chart for Ram Rider\n",
      "Making chart for Zappies\n",
      "Making chart for Rascals\n",
      "Making chart for Cannon Cart\n",
      "Making chart for Mega Knight\n",
      "Making chart for Skeleton Barrel\n",
      "Making chart for Flying Machine\n",
      "Making chart for Wall Breakers\n",
      "Making chart for Royal Hogs\n",
      "Making chart for Goblin Giant\n",
      "Making chart for Fisherman\n",
      "Making chart for Magic Archer\n",
      "Making chart for Electro Dragon\n",
      "Making chart for Firecracker\n",
      "Making chart for Mighty Miner\n",
      "Making chart for Elixir Golem\n",
      "Making chart for Battle Healer\n",
      "Making chart for Skeleton King\n",
      "Making chart for Archer Queen\n",
      "Making chart for Golden Knight\n",
      "Making chart for Monk\n",
      "Making chart for Skeleton Dragons\n",
      "Making chart for Mother Witch\n",
      "Making chart for Electro Spirit\n",
      "Making chart for Electro Giant\n",
      "Making chart for Phoenix\n",
      "Making chart for Little Prince\n",
      "Making chart for Cannon\n",
      "Making chart for Goblin Hut\n",
      "Making chart for Mortar\n",
      "Making chart for Inferno Tower\n",
      "Making chart for Bomb Tower\n",
      "Making chart for Barbarian Hut\n",
      "Making chart for Tesla\n",
      "Making chart for Elixir Collector\n",
      "Making chart for X-Bow\n",
      "Making chart for Tombstone\n",
      "Making chart for Furnace\n",
      "Making chart for Goblin Cage\n",
      "Making chart for Goblin Drill\n",
      "Making chart for Fireball\n",
      "Making chart for Arrows\n",
      "Making chart for Rage\n",
      "Making chart for Rocket\n",
      "Making chart for Goblin Barrel\n",
      "Making chart for Freeze\n",
      "Making chart for Mirror\n",
      "Making chart for Lightning\n",
      "Making chart for Zap\n",
      "Making chart for Poison\n",
      "Making chart for Graveyard\n",
      "Making chart for The Log\n",
      "Making chart for Tornado\n",
      "Making chart for Clone\n",
      "Making chart for Earthquake\n",
      "Making chart for Barbarian Barrel\n",
      "Making chart for Heal Spirit\n",
      "Making chart for Giant Snowball\n",
      "Making chart for Royal Delivery\n"
     ]
    }
   ],
   "source": [
    "for card in cards:\n",
    "    print('Making chart for ' + card)\n",
    "    get_chart(choice=card)"
   ],
   "metadata": {
    "collapsed": false,
    "ExecuteTime": {
     "end_time": "2024-04-16T14:14:39.952537Z",
     "start_time": "2024-04-16T14:06:42.554521Z"
    }
   },
   "id": "c5491561021b2a92",
   "execution_count": 14
  },
  {
   "cell_type": "code",
   "outputs": [],
   "source": [],
   "metadata": {
    "collapsed": false
   },
   "id": "3662b15f91b5e10e"
  }
 ],
 "metadata": {
  "kernelspec": {
   "display_name": "Python 3",
   "language": "python",
   "name": "python3"
  },
  "language_info": {
   "codemirror_mode": {
    "name": "ipython",
    "version": 2
   },
   "file_extension": ".py",
   "mimetype": "text/x-python",
   "name": "python",
   "nbconvert_exporter": "python",
   "pygments_lexer": "ipython2",
   "version": "2.7.6"
  }
 },
 "nbformat": 4,
 "nbformat_minor": 5
}
